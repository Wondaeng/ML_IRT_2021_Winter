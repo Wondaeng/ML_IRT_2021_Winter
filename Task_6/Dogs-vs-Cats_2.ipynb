{
 "cells": [
  {
   "cell_type": "markdown",
   "source": [
    "### 1. Sorting Images"
   ],
   "metadata": {
    "collapsed": false,
    "pycharm": {
     "name": "#%% md\n"
    }
   }
  },
  {
   "cell_type": "code",
   "execution_count": 2,
   "outputs": [
    {
     "ename": "FileExistsError",
     "evalue": "[WinError 183] 파일이 이미 있으므로 만들 수 없습니다: 'C:/Users/user/PycharmProjects/ML_2022/Task_6/dogs-vs-cats\\\\train2\\\\train'",
     "output_type": "error",
     "traceback": [
      "\u001B[1;31m---------------------------------------------------------------------------\u001B[0m",
      "\u001B[1;31mFileExistsError\u001B[0m                           Traceback (most recent call last)",
      "\u001B[1;32m~\\AppData\\Local\\Temp/ipykernel_7756/2351014460.py\u001B[0m in \u001B[0;36m<module>\u001B[1;34m\u001B[0m\n\u001B[0;32m      7\u001B[0m \u001B[0mtest_dir\u001B[0m \u001B[1;33m=\u001B[0m \u001B[0mos\u001B[0m\u001B[1;33m.\u001B[0m\u001B[0mpath\u001B[0m\u001B[1;33m.\u001B[0m\u001B[0mjoin\u001B[0m\u001B[1;33m(\u001B[0m\u001B[0moriginal_data_dir\u001B[0m\u001B[1;33m,\u001B[0m \u001B[1;34m'test'\u001B[0m\u001B[1;33m)\u001B[0m\u001B[1;33m\u001B[0m\u001B[1;33m\u001B[0m\u001B[0m\n\u001B[0;32m      8\u001B[0m \u001B[1;33m\u001B[0m\u001B[0m\n\u001B[1;32m----> 9\u001B[1;33m \u001B[0mos\u001B[0m\u001B[1;33m.\u001B[0m\u001B[0mmkdir\u001B[0m\u001B[1;33m(\u001B[0m\u001B[0mtrain_dir\u001B[0m\u001B[1;33m)\u001B[0m\u001B[1;33m\u001B[0m\u001B[1;33m\u001B[0m\u001B[0m\n\u001B[0m\u001B[0;32m     10\u001B[0m \u001B[0mos\u001B[0m\u001B[1;33m.\u001B[0m\u001B[0mmkdir\u001B[0m\u001B[1;33m(\u001B[0m\u001B[0mval_dir\u001B[0m\u001B[1;33m)\u001B[0m\u001B[1;33m\u001B[0m\u001B[1;33m\u001B[0m\u001B[0m\n\u001B[0;32m     11\u001B[0m \u001B[0mos\u001B[0m\u001B[1;33m.\u001B[0m\u001B[0mmkdir\u001B[0m\u001B[1;33m(\u001B[0m\u001B[0mtest_dir\u001B[0m\u001B[1;33m)\u001B[0m\u001B[1;33m\u001B[0m\u001B[1;33m\u001B[0m\u001B[0m\n",
      "\u001B[1;31mFileExistsError\u001B[0m: [WinError 183] 파일이 이미 있으므로 만들 수 없습니다: 'C:/Users/user/PycharmProjects/ML_2022/Task_6/dogs-vs-cats\\\\train2\\\\train'"
     ]
    }
   ],
   "source": [
    "import os, shutil\n",
    "base_dir = 'C:/Users/user/PycharmProjects/ML_2022/Task_6/dogs-vs-cats'\n",
    "original_data_dir = os.path.join(base_dir, 'train2')\n",
    "\n",
    "train_dir = os.path.join(original_data_dir, 'train')\n",
    "val_dir = os.path.join(original_data_dir, 'validation')\n",
    "test_dir = os.path.join(original_data_dir, 'test')\n",
    "\n",
    "os.mkdir(train_dir)\n",
    "os.mkdir(val_dir)\n",
    "os.mkdir(test_dir)"
   ],
   "metadata": {
    "collapsed": false,
    "pycharm": {
     "name": "#%%\n"
    }
   }
  },
  {
   "cell_type": "code",
   "execution_count": 3,
   "outputs": [
    {
     "name": "stdout",
     "output_type": "stream",
     "text": [
      "Finished\n"
     ]
    }
   ],
   "source": [
    "# Copy Image files for training set\n",
    "fnames = ['cat.{}.jpg'.format(i) for i in range(10000)]\n",
    "for fname in fnames:\n",
    "    src = os.path.join(original_data_dir, fname)\n",
    "    dst = os.path.join(train_dir, fname)\n",
    "    shutil.copy(src, dst)\n",
    "\n",
    "fnames = ['dog.{}.jpg'.format(i) for i in range(10000)]\n",
    "for fname in fnames:\n",
    "    src = os.path.join(original_data_dir, fname)\n",
    "    dst = os.path.join(train_dir, fname)\n",
    "    shutil.copy(src, dst)\n",
    "\n",
    "# Copy Image files for validation set\n",
    "fnames = ['cat.{}.jpg'.format(i) for i in range(10000, 11250)]\n",
    "for fname in fnames:\n",
    "    src = os.path.join(original_data_dir, fname)\n",
    "    dst = os.path.join(val_dir, fname)\n",
    "    shutil.copy(src, dst)\n",
    "\n",
    "fnames = ['dog.{}.jpg'.format(i) for i in range(10000, 11250)]\n",
    "for fname in fnames:\n",
    "    src = os.path.join(original_data_dir, fname)\n",
    "    dst = os.path.join(val_dir, fname)\n",
    "    shutil.copy(src, dst)\n",
    "\n",
    "# Copy Image files for test set\n",
    "fnames = ['cat.{}.jpg'.format(i) for i in range(11250, 12500)]\n",
    "for fname in fnames:\n",
    "    src = os.path.join(original_data_dir, fname)\n",
    "    dst = os.path.join(test_dir, fname)\n",
    "    shutil.copy(src, dst)\n",
    "\n",
    "fnames = ['dog.{}.jpg'.format(i) for i in range(11250, 12500)]\n",
    "for fname in fnames:\n",
    "    src = os.path.join(original_data_dir, fname)\n",
    "    dst = os.path.join(test_dir, fname)\n",
    "    shutil.copy(src, dst)\n",
    "\n",
    "print(\"Finished\")"
   ],
   "metadata": {
    "collapsed": false,
    "pycharm": {
     "name": "#%%\n"
    }
   }
  },
  {
   "cell_type": "code",
   "execution_count": 4,
   "outputs": [
    {
     "name": "stdout",
     "output_type": "stream",
     "text": [
      "the number of train set : 20000\n",
      "the number of valid set : 2500\n",
      "the number of test set : 2500\n"
     ]
    }
   ],
   "source": [
    "print(f'the number of train set : {len(os.listdir(train_dir))}')\n",
    "print(f'the number of valid set : {len(os.listdir(val_dir))}')\n",
    "print(f'the number of test set : {len(os.listdir(test_dir))}')"
   ],
   "metadata": {
    "collapsed": false,
    "pycharm": {
     "name": "#%%\n"
    }
   }
  },
  {
   "cell_type": "markdown",
   "source": [
    "### 2. Loading Datasets"
   ],
   "metadata": {
    "collapsed": false
   }
  },
  {
   "cell_type": "code",
   "execution_count": 5,
   "outputs": [
    {
     "name": "stdout",
     "output_type": "stream",
     "text": [
      "Finished\n"
     ]
    }
   ],
   "source": [
    "import torch\n",
    "import PIL\n",
    "import numpy as np\n",
    "import torchvision\n",
    "from torch.utils.data import Dataset\n",
    "from torchvision import datasets\n",
    "from torchvision import transforms\n",
    "from torchvision.transforms import ToTensor\n",
    "\n",
    "preprocess = transforms.Compose([\n",
    "    transforms.Resize(256),\n",
    "    transforms.CenterCrop(224),\n",
    "    transforms.ToTensor(),\n",
    "    transforms.Normalize(mean=[0.485, 0.456, 0.406], std=[0.229, 0.224, 0.225]),\n",
    "])\n",
    "\n",
    "batch_size = 4\n",
    "\n",
    "class CustomDataset(Dataset):    # Define new class CustomDataset for test datasets\n",
    "    def __init__(self, files, root, train = False, transform=None):\n",
    "        self.files = files\n",
    "        self.root = root\n",
    "        self.train = train\n",
    "        self.transform = transform\n",
    "\n",
    "        if 'cat' in files[0]:\n",
    "            self.label = 0\n",
    "        else:\n",
    "            self.label = 1\n",
    "\n",
    "    def __len__(self):\n",
    "        return len(self.files)\n",
    "\n",
    "    def __getitem__(self, index):\n",
    "        img = PIL.Image.open(os.path.join(self.root, self.files[index]))\n",
    "\n",
    "        if self.transform:\n",
    "            img = self.transform(img)\n",
    "\n",
    "        if self.train:\n",
    "            return img, self.label\n",
    "        else:\n",
    "            return img, self.files[index]\n",
    "\n",
    "print('Finished')"
   ],
   "metadata": {
    "collapsed": false,
    "pycharm": {
     "name": "#%%\n"
    }
   }
  },
  {
   "cell_type": "code",
   "execution_count": 56,
   "outputs": [],
   "source": [
    "dog_file_names = [f'dog.{i}.jpg' for i in range(12500)]\n",
    "cat_file_names = [f'cat.{i}.jpg' for i in range(12500)]\n",
    "\n",
    "train_dog_dataset = CustomDataset(dog_file_names[:10000], train_dir, train=True, transform=preprocess)\n",
    "train_cat_dataset = CustomDataset(cat_file_names[:10000], train_dir, train=True, transform=preprocess)\n",
    "valid_dog_dataset = CustomDataset(dog_file_names[10000:11250], val_dir, train=True, transform=preprocess)\n",
    "valid_cat_dataset = CustomDataset(cat_file_names[10000:11250], val_dir, train=True, transform=preprocess)\n",
    "test_dog_dataset = CustomDataset(dog_file_names[11250:], test_dir, train=True, transform=preprocess)\n",
    "test_cat_dataset = CustomDataset(cat_file_names[11250:], test_dir, train=True, transform=preprocess)\n",
    "\n",
    "train_data = torch.utils.data.ConcatDataset([train_dog_dataset, train_cat_dataset])\n",
    "valid_data = torch.utils.data.ConcatDataset([valid_dog_dataset, valid_cat_dataset])\n",
    "test_data = torch.utils.data.ConcatDataset([test_dog_dataset, test_cat_dataset])\n",
    "\n",
    "\n"
   ],
   "metadata": {
    "collapsed": false,
    "pycharm": {
     "name": "#%%\n"
    }
   }
  },
  {
   "cell_type": "code",
   "execution_count": 76,
   "outputs": [
    {
     "name": "stdout",
     "output_type": "stream",
     "text": [
      "<class 'torch.utils.data.dataloader.DataLoader'>\n"
     ]
    }
   ],
   "source": [
    "\n",
    "trainloader = torch.utils.data.DataLoader(train_data, batch_size=32, shuffle=True)\n",
    "validloader = torch.utils.data.DataLoader(valid_data, batch_size=32, shuffle=True)\n",
    "testloader = torch.utils.data.DataLoader(test_data, batch_size=32, shuffle=True)\n",
    "\n",
    "print(type(trainloader))\n"
   ],
   "metadata": {
    "collapsed": false,
    "pycharm": {
     "name": "#%%\n"
    }
   }
  },
  {
   "cell_type": "markdown",
   "source": [
    "### 3. Define a Convolutional Neural Network"
   ],
   "metadata": {
    "collapsed": false
   }
  },
  {
   "cell_type": "code",
   "execution_count": 119,
   "outputs": [
    {
     "name": "stdout",
     "output_type": "stream",
     "text": [
      "cuda:0\n"
     ]
    },
    {
     "data": {
      "text/plain": "Net(\n  (conv1): Conv2d(3, 6, kernel_size=(7, 7), stride=(1, 1))\n  (pool): MaxPool2d(kernel_size=2, stride=2, padding=0, dilation=1, ceil_mode=False)\n  (conv2): Conv2d(6, 16, kernel_size=(5, 5), stride=(1, 1))\n  (conv3): Conv2d(16, 32, kernel_size=(5, 5), stride=(1, 1))\n  (fc1): Linear(in_features=18432, out_features=1600, bias=True)\n  (dropout1): Dropout(p=0.5, inplace=False)\n  (fc2): Linear(in_features=1600, out_features=400, bias=True)\n  (dropout2): Dropout(p=0.2, inplace=False)\n  (fc3): Linear(in_features=400, out_features=2, bias=True)\n)"
     },
     "execution_count": 119,
     "metadata": {},
     "output_type": "execute_result"
    }
   ],
   "source": [
    "import torch.nn as nn\n",
    "import torch.nn.functional as F\n",
    "\n",
    "class Net(nn.Module):\n",
    "    def __init__(self):\n",
    "        super().__init__()\n",
    "        self.conv1 = nn.Conv2d(3, 6, 7)\n",
    "        self.pool = nn.MaxPool2d(2, 2)\n",
    "        self.conv2 = nn.Conv2d(6, 16, 5)\n",
    "        self.pool = nn.MaxPool2d(2, 2)\n",
    "        self.conv3 = nn.Conv2d(16, 32, 5)\n",
    "        self.fc1 = nn.Linear(18432, 1600)\n",
    "        self.dropout1 = nn.Dropout(0.5)\n",
    "        self.fc2 = nn.Linear(1600, 400)\n",
    "        self.dropout2 = nn.Dropout(0.2)\n",
    "        self.fc3 = nn.Linear(400, 2)\n",
    "\n",
    "    def forward(self, x):\n",
    "        x = self.pool(F.relu(self.conv1(x)))\n",
    "        x = self.pool(F.relu(self.conv2(x)))\n",
    "        x = self.pool(F.relu(self.conv3(x)))\n",
    "        x = torch.flatten(x, 1) # flatten all dimensions except batch\n",
    "        x = F.relu(self.fc1(x))\n",
    "        x = self.dropout1(x)\n",
    "        x = F.relu(self.fc2(x))\n",
    "        x = self.dropout2(x)\n",
    "        x = self.fc3(x)\n",
    "        return x\n",
    "\n",
    "net1 = Net()\n",
    "\n",
    "device = torch.device('cuda:0' if torch.cuda.is_available() else 'cpu')\n",
    "print(device)\n",
    "net1.to(device)\n"
   ],
   "metadata": {
    "collapsed": false,
    "pycharm": {
     "name": "#%%\n"
    }
   }
  },
  {
   "cell_type": "markdown",
   "source": [
    "### 4. Define a Loss function and optimizer"
   ],
   "metadata": {
    "collapsed": false,
    "pycharm": {
     "name": "#%% md\n"
    }
   }
  },
  {
   "cell_type": "code",
   "execution_count": 120,
   "outputs": [],
   "source": [
    "import torch.optim as optim\n",
    "\n",
    "criterion = nn.CrossEntropyLoss()\n",
    "optimizer = optim.SGD(net1.parameters(), lr=0.001, momentum=0.9)"
   ],
   "metadata": {
    "collapsed": false,
    "pycharm": {
     "name": "#%%\n"
    }
   }
  },
  {
   "cell_type": "markdown",
   "source": [
    "### 5. Train the network"
   ],
   "metadata": {
    "collapsed": false,
    "pycharm": {
     "name": "#%% md\n"
    }
   }
  },
  {
   "cell_type": "code",
   "execution_count": 121,
   "outputs": [
    {
     "name": "stdout",
     "output_type": "stream",
     "text": [
      "[epoch : 1, iteration   625] training loss: 0.6899\n",
      "[epoch : 1, iteration    79] validation loss: 0.6908\n",
      "[epoch : 2, iteration   625] training loss: 0.6427\n",
      "[epoch : 2, iteration    79] validation loss: 0.6199\n",
      "[epoch : 3, iteration   625] training loss: 0.6065\n",
      "[epoch : 3, iteration    79] validation loss: 0.6111\n",
      "[epoch : 4, iteration   625] training loss: 0.5720\n",
      "[epoch : 4, iteration    79] validation loss: 0.5666\n",
      "[epoch : 5, iteration   625] training loss: 0.5338\n",
      "[epoch : 5, iteration    79] validation loss: 0.5275\n",
      "[epoch : 6, iteration   625] training loss: 0.4871\n",
      "[epoch : 6, iteration    79] validation loss: 0.5115\n",
      "[epoch : 7, iteration   625] training loss: 0.4354\n",
      "[epoch : 7, iteration    79] validation loss: 0.4716\n",
      "[epoch : 8, iteration   625] training loss: 0.3633\n",
      "[epoch : 8, iteration    79] validation loss: 0.5073\n",
      "[epoch : 9, iteration   625] training loss: 0.2558\n",
      "[epoch : 9, iteration    79] validation loss: 0.5763\n",
      "[epoch : 10, iteration   625] training loss: 0.1374\n",
      "[epoch : 10, iteration    79] validation loss: 0.7213\n"
     ]
    },
    {
     "data": {
      "text/plain": "<Figure size 432x288 with 1 Axes>",
      "image/png": "[encoded data removed]"
     },
     "metadata": {
      "needs_background": "light"
     },
     "output_type": "display_data"
    },
    {
     "name": "stdout",
     "output_type": "stream",
     "text": [
      "Finished Training\n"
     ]
    }
   ],
   "source": [
    "import matplotlib.pyplot as plt\n",
    "\n",
    "epochs = 10\n",
    "\n",
    "running_losses = []\n",
    "valid_losses = []\n",
    "for epoch in range(epochs):  # loop over the dataset multiple times\n",
    "\n",
    "    running_loss = 0.0\n",
    "    for i, data in enumerate(trainloader, 0):\n",
    "        # get the inputs; data is a list of [inputs, labels]\n",
    "\n",
    "        inputs, labels = data[0].to(device), data[1].to(device)\n",
    "\n",
    "        # zero the parameter gradients\n",
    "        optimizer.zero_grad()\n",
    "\n",
    "        # forward + backward + optimize\n",
    "        outputs = net1(inputs)    # Pass the inputs to the network, and get output\n",
    "        loss = criterion(outputs, labels)    # Calculate cross entropy loss\n",
    "        loss.backward()\n",
    "        optimizer.step()\n",
    "\n",
    "        # print statistics\n",
    "        running_loss += loss.item()\n",
    "    print(f'[epoch : {epoch + 1}, iteration {i + 1:5d}] training loss: {running_loss / i:.4f}')\n",
    "\n",
    "    # validation data check\n",
    "    valid_loss = 0\n",
    "\n",
    "    for i, data in enumerate(validloader):\n",
    "        with torch.no_grad():\n",
    "            net1.eval()\n",
    "            images, labels = data[0].to(device), data[1].to(device)\n",
    "            prediction = net1(images)\n",
    "            loss = criterion(prediction, labels)    # Calculate cross entropy loss\n",
    "        valid_loss += loss.item()\n",
    "\n",
    "    print(f'[epoch : {epoch + 1}, iteration {i + 1:5d}] validation loss: {valid_loss / i:.4f}')\n",
    "\n",
    "    running_losses.append(running_loss)\n",
    "    valid_losses.append(valid_loss)\n",
    "\n",
    "plt.plot(running_losses, label='train_loss')\n",
    "plt.plot(valid_losses, label='valid_loss')\n",
    "plt.legend()\n",
    "plt.title('train loss and accuracy')\n",
    "plt.show()\n",
    "\n",
    "\n",
    "\n",
    "print('Finished Training')"
   ],
   "metadata": {
    "collapsed": false,
    "pycharm": {
     "name": "#%%\n"
    }
   }
  },
  {
   "cell_type": "code",
   "execution_count": 89,
   "outputs": [],
   "source": [
    "PATH = './cats_vs_dogs.pth'\n",
    "torch.save(net1.state_dict(), PATH)"
   ],
   "metadata": {
    "collapsed": false,
    "pycharm": {
     "name": "#%%\n"
    }
   }
  },
  {
   "cell_type": "markdown",
   "source": [
    "### 6. Test the network"
   ],
   "metadata": {
    "collapsed": false,
    "pycharm": {
     "name": "#%% md\n"
    }
   }
  },
  {
   "cell_type": "code",
   "execution_count": 104,
   "outputs": [
    {
     "name": "stdout",
     "output_type": "stream",
     "text": [
      "<class 'int'>\n"
     ]
    }
   ],
   "source": [
    "net = Net()\n",
    "net.to(device)\n",
    "net.load_state_dict(torch.load(PATH))"
   ],
   "metadata": {
    "collapsed": false,
    "pycharm": {
     "name": "#%%\n"
    }
   }
  },
  {
   "cell_type": "code",
   "execution_count": 115,
   "outputs": [
    {
     "name": "stdout",
     "output_type": "stream",
     "text": [
      "{'TP': 995, 'TN': 972, 'FP': 255, 'FN': 278}\n"
     ]
    }
   ],
   "source": [
    "import matplotlib.pyplot as plt\n",
    "import numpy as np\n",
    "\n",
    "with torch.no_grad():\n",
    "    result = {'TP':0, 'TN':0, 'FP':0, 'FN':0}\n",
    "    predicted = []\n",
    "    test_loss = 0\n",
    "    for i, data in enumerate(testloader):\n",
    "        net.eval()\n",
    "        images, labels = data[0].to(device), data[1].to(device)\n",
    "        outputs = net(images)\n",
    "        loss = criterion(outputs, labels)\n",
    "\n",
    "        _, predicted_temp = torch.max(outputs, 1)\n",
    "        predicted += [int(i) for i in predicted_temp]\n",
    "\n",
    "        for m, n in zip(labels, predicted_temp):    # Take cat as positive\n",
    "            if m == 0 and n == 0:\n",
    "                result['TP'] += 1\n",
    "            elif m == 1 and n == 1:\n",
    "                result['TN'] += 1\n",
    "            elif m == 1 and n == 0:\n",
    "                result['FN'] += 1\n",
    "            else:\n",
    "                result['FP'] += 1\n",
    "\n",
    "        test_loss += loss.item()/len(testloader)\n",
    "\n",
    "    print(result)"
   ],
   "metadata": {
    "collapsed": false,
    "pycharm": {
     "name": "#%%\n"
    }
   }
  },
  {
   "cell_type": "code",
   "execution_count": 118,
   "outputs": [
    {
     "name": "stdout",
     "output_type": "stream",
     "text": [
      "test loss : 0.522\n",
      "test accuracy : 78.68 %\n",
      "test precision : 0.796\n",
      "test recall : 0.782\n",
      "F1 score : 0.789\n"
     ]
    }
   ],
   "source": [
    "\n",
    "test_accuracy = 100 * (result['TP'] + result['TN'])/(result['TP'] + result['TN'] + result['FN'] + result['FP'])\n",
    "test_precision = result['TP']/(result['TP'] + result['FP'])\n",
    "test_recall = result['TP']/(result['TP'] + result['FN'])\n",
    "test_f1_score = 2 * test_recall * test_precision / (test_recall + test_precision)\n",
    "\n",
    "print(f'test loss : {test_loss:.3f}')\n",
    "print(f'test accuracy : {test_accuracy} %')\n",
    "print(f'test precision : {test_precision:.3f}')\n",
    "print(f'test recall : {test_recall:.3f}')\n",
    "print(f'F1 score : {test_f1_score:.3f}')\n"
   ],
   "metadata": {
    "collapsed": false,
    "pycharm": {
     "name": "#%%\n"
    }
   }
  },
  {
   "cell_type": "markdown",
   "source": [
    "### 7. Write .CSV file for submission"
   ],
   "metadata": {
    "collapsed": false,
    "pycharm": {
     "name": "#%% md\n"
    }
   }
  },
  {
   "cell_type": "code",
   "execution_count": null,
   "outputs": [],
   "source": [
    "\n",
    "indices = [i for i in range(1, 12501)]\n",
    "lines = ['id,label\\n'] + [str(m) + ',' + str(n) +'\\n' for m,n in zip(indices, predicted)]\n",
    "print(lines)\n",
    "with open('submission.csv', 'w') as f:\n",
    "    f.writelines(lines)"
   ],
   "metadata": {
    "collapsed": false,
    "pycharm": {
     "name": "#%%\n"
    }
   }
  }
 ],
 "metadata": {
  "kernelspec": {
   "display_name": "Python 3",
   "language": "python",
   "name": "python3"
  },
  "language_info": {
   "codemirror_mode": {
    "name": "ipython",
    "version": 2
   },
   "file_extension": ".py",
   "mimetype": "text/x-python",
   "name": "python",
   "nbconvert_exporter": "python",
   "pygments_lexer": "ipython2",
   "version": "2.7.6"
  }
 },
 "nbformat": 4,
 "nbformat_minor": 0
}